{
 "cells": [
  {
   "cell_type": "code",
   "execution_count": 45,
   "metadata": {},
   "outputs": [],
   "source": [
    "import requests\n",
    "from io import StringIO, BytesIO, BufferedReader\n",
    "from streamlit.runtime.uploaded_file_manager import UploadedFile"
   ]
  },
  {
   "cell_type": "code",
   "execution_count": 61,
   "metadata": {},
   "outputs": [
    {
     "ename": "NameError",
     "evalue": "name 'uploaded_file' is not defined",
     "output_type": "error",
     "traceback": [
      "\u001b[0;31m---------------------------------------------------------------------------\u001b[0m",
      "\u001b[0;31mNameError\u001b[0m                                 Traceback (most recent call last)",
      "Cell \u001b[0;32mIn[61], line 1\u001b[0m\n\u001b[0;32m----> 1\u001b[0m uploaded_file\n",
      "\u001b[0;31mNameError\u001b[0m: name 'uploaded_file' is not defined"
     ]
    }
   ],
   "source": [
    "uploaded_file"
   ]
  },
  {
   "cell_type": "code",
   "execution_count": 75,
   "metadata": {},
   "outputs": [
    {
     "name": "stdout",
     "output_type": "stream",
     "text": [
      "/home/aimore/GIT/knowledge_gpt/frontend/frontend/Isaac_Singer.pdf\n",
      "<class 'dict'>\n",
      "FINALLY\n"
     ]
    },
    {
     "data": {
      "text/plain": [
       "'None'"
      ]
     },
     "execution_count": 75,
     "metadata": {},
     "output_type": "execute_result"
    }
   ],
   "source": [
    "def doc_to_store(uploaded_file: UploadedFile):\n",
    "    DOC_STORE_API_URL = \"http://0.0.0.0:8532/doc_to_store/\"\n",
    "    with open(uploaded_file, \"rb\") as f:\n",
    "        files = [(\"files\", uploaded_file)]\n",
    "    print(uploaded_file)\n",
    "    data = {}\n",
    "\n",
    "\n",
    "    print(type(data))\n",
    "    # **params** = Query parameters to include in the URL, as a string, dictionary, or sequence of two-tuples.\n",
    "    # **content** = Binary content to include in the body of the request, as bytes or a byte iterator.\n",
    "    # **data** = Form data to include in the body of the request, as a dictionary.\n",
    "    # **files** = A dictionary of upload files to include in the body of the request.\n",
    "    # **json** = A JSON serializable object to include in the body of the request.\n",
    "    # **headers** = Dictionary of HTTP headers to include in the request.\n",
    "\n",
    "    response = requests.post(url=DOC_STORE_API_URL, files=files, data=data)\n",
    "    \n",
    "    if response.status_code == 200:\n",
    "        print(\"FINALLY\")\n",
    "        return str(response.json())\n",
    "    return response.status_code\n",
    "\n",
    "file_path = \"/home/aimore/GIT/knowledge_gpt/frontend/frontend/Isaac_Singer.pdf\"\n",
    "doc_to_store(file_path)"
   ]
  },
  {
   "cell_type": "code",
   "execution_count": 43,
   "metadata": {},
   "outputs": [
    {
     "name": "stdout",
     "output_type": "stream",
     "text": [
      "<class 'dict'>\n"
     ]
    },
    {
     "data": {
      "text/plain": [
       "422"
      ]
     },
     "execution_count": 43,
     "metadata": {},
     "output_type": "execute_result"
    }
   ],
   "source": []
  },
  {
   "cell_type": "code",
   "execution_count": 32,
   "metadata": {},
   "outputs": [],
   "source": [
    "from fastapi import Form, File, UploadFile, Request, FastAPI\n",
    "from typing import List\n",
    "from fastapi.responses import HTMLResponse\n",
    "from fastapi.templating import Jinja2Templates\n",
    "\n",
    "app = FastAPI()\n",
    "templates = Jinja2Templates(directory=\"templates\")\n",
    "\n",
    "\n",
    "@app.post(\"/submit\")\n",
    "def submit(\n",
    "    name: str = Form(...),\n",
    "    point: float = Form(...),\n",
    "    is_accepted: bool = Form(...),\n",
    "    files: List[UploadFile] = File(...),\n",
    "):\n",
    "    return {\n",
    "        \"JSON Payload \": {\"name\": name, \"point\": point, \"is_accepted\": is_accepted},\n",
    "        \"Filenames\": [file.filename for file in files],\n",
    "    }\n",
    "\n",
    "\n",
    "@app.get(\"/\", response_class=HTMLResponse)\n",
    "def main(request: Request):\n",
    "    return templates.TemplateResponse(\"index.html\", {\"request\": request})"
   ]
  },
  {
   "cell_type": "code",
   "execution_count": null,
   "metadata": {},
   "outputs": [],
   "source": []
  }
 ],
 "metadata": {
  "kernelspec": {
   "display_name": ".venv",
   "language": "python",
   "name": "python3"
  },
  "language_info": {
   "codemirror_mode": {
    "name": "ipython",
    "version": 3
   },
   "file_extension": ".py",
   "mimetype": "text/x-python",
   "name": "python",
   "nbconvert_exporter": "python",
   "pygments_lexer": "ipython3",
   "version": "3.11.4"
  },
  "orig_nbformat": 4
 },
 "nbformat": 4,
 "nbformat_minor": 2
}
