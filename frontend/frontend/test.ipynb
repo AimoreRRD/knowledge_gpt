{
 "cells": [
  {
   "cell_type": "code",
   "execution_count": 2,
   "metadata": {},
   "outputs": [],
   "source": [
    "import requests\n",
    "from io import StringIO, BytesIO, BufferedReader\n",
    "from streamlit.runtime.uploaded_file_manager import UploadedFile"
   ]
  },
  {
   "cell_type": "code",
   "execution_count": 4,
   "metadata": {},
   "outputs": [
    {
     "name": "stdout",
     "output_type": "stream",
     "text": [
      "/home/aimore/GIT/knowledge_gpt/frontend/frontend/Isaac_Singer.pdf\n"
     ]
    },
    {
     "ename": "AttributeError",
     "evalue": "'str' object has no attribute 'name'",
     "output_type": "error",
     "traceback": [
      "\u001b[0;31m---------------------------------------------------------------------------\u001b[0m",
      "\u001b[0;31mAttributeError\u001b[0m                            Traceback (most recent call last)",
      "Cell \u001b[0;32mIn[4], line 24\u001b[0m\n\u001b[1;32m     21\u001b[0m     \u001b[39mreturn\u001b[39;00m response\u001b[39m.\u001b[39mstatus_code\n\u001b[1;32m     23\u001b[0m file_path \u001b[39m=\u001b[39m \u001b[39m\"\u001b[39m\u001b[39m/home/aimore/GIT/knowledge_gpt/frontend/frontend/Isaac_Singer.pdf\u001b[39m\u001b[39m\"\u001b[39m\n\u001b[0;32m---> 24\u001b[0m doc_to_store(file_path)\n",
      "Cell \u001b[0;32mIn[4], line 6\u001b[0m, in \u001b[0;36mdoc_to_store\u001b[0;34m(uploaded_file)\u001b[0m\n\u001b[1;32m      4\u001b[0m     files \u001b[39m=\u001b[39m [(\u001b[39m\"\u001b[39m\u001b[39mfile\u001b[39m\u001b[39m\"\u001b[39m, uploaded_file)]\n\u001b[1;32m      5\u001b[0m \u001b[39mprint\u001b[39m(uploaded_file)\n\u001b[0;32m----> 6\u001b[0m data \u001b[39m=\u001b[39m {\u001b[39m\"\u001b[39m\u001b[39mfilename\u001b[39m\u001b[39m\"\u001b[39m:uploaded_file\u001b[39m.\u001b[39;49mname}\n\u001b[1;32m      8\u001b[0m \u001b[39mprint\u001b[39m(\u001b[39mtype\u001b[39m(data))\n\u001b[1;32m      9\u001b[0m \u001b[39m# **params** = Query parameters to include in the URL, as a string, dictionary, or sequence of two-tuples.\u001b[39;00m\n\u001b[1;32m     10\u001b[0m \u001b[39m# **content** = Binary content to include in the body of the request, as bytes or a byte iterator.\u001b[39;00m\n\u001b[1;32m     11\u001b[0m \u001b[39m# **data** = Form data to include in the body of the request, as a dictionary.\u001b[39;00m\n\u001b[1;32m     12\u001b[0m \u001b[39m# **files** = A dictionary of upload files to include in the body of the request.\u001b[39;00m\n\u001b[1;32m     13\u001b[0m \u001b[39m# **json** = A JSON serializable object to include in the body of the request.\u001b[39;00m\n\u001b[1;32m     14\u001b[0m \u001b[39m# **headers** = Dictionary of HTTP headers to include in the request.\u001b[39;00m\n",
      "\u001b[0;31mAttributeError\u001b[0m: 'str' object has no attribute 'name'"
     ]
    }
   ],
   "source": [
    "def doc_to_store(uploaded_file: UploadedFile):\n",
    "    DOC_STORE_API_URL = \"http://0.0.0.0:8532/doc_to_store/\"\n",
    "    with open(uploaded_file, \"rb\") as f:\n",
    "        files = [(\"file\", uploaded_file)]\n",
    "    print(uploaded_file)\n",
    "    data = {\"filename\":uploaded_file.name}\n",
    "\n",
    "    print(type(data))\n",
    "    # **params** = Query parameters to include in the URL, as a string, dictionary, or sequence of two-tuples.\n",
    "    # **content** = Binary content to include in the body of the request, as bytes or a byte iterator.\n",
    "    # **data** = Form data to include in the body of the request, as a dictionary.\n",
    "    # **files** = A dictionary of upload files to include in the body of the request.\n",
    "    # **json** = A JSON serializable object to include in the body of the request.\n",
    "    # **headers** = Dictionary of HTTP headers to include in the request.\n",
    "\n",
    "    response = requests.post(url=DOC_STORE_API_URL, files=files, data=data)\n",
    "    \n",
    "    if response.status_code == 200:\n",
    "        print(\"FINALLY\")\n",
    "        return str(response.json())\n",
    "    return response.status_code\n",
    "\n",
    "file_path = \"/home/aimore/GIT/knowledge_gpt/frontend/frontend/Isaac_Singer.pdf\"\n",
    "doc_to_store(file_path)"
   ]
  },
  {
   "cell_type": "code",
   "execution_count": 22,
   "metadata": {},
   "outputs": [
    {
     "data": {
      "text/plain": [
       "(422,\n",
       " {'detail': [{'loc': ['query', 'query'],\n",
       "    'msg': 'field required',\n",
       "    'type': 'value_error.missing'}]})"
      ]
     },
     "execution_count": 22,
     "metadata": {},
     "output_type": "execute_result"
    }
   ],
   "source": [
    "import requests\n",
    "import json\n",
    "def get_answer(query: str, documents_selected: list):\n",
    "    LLM_API_URL = \"http://0.0.0.0:8533/generate/\"\n",
    "    \n",
    "    data = {\"documents_selected\": documents_selected, \"query\": query}\n",
    "    params = {}\n",
    "    headers = {\"accept\": \"application/json\"}\n",
    "    \n",
    "    response = requests.post(url=LLM_API_URL, params={}, data=data, headers=headers)\n",
    "    \n",
    "    if response.status_code == 200:\n",
    "        print(\"FINALLY\")\n",
    "        return str(response.json())\n",
    "    return response.status_code, json.loads(response.content)\n",
    "\n",
    "get_answer(\"TEST\", [\"\"])"
   ]
  },
  {
   "cell_type": "code",
   "execution_count": 32,
   "metadata": {},
   "outputs": [],
   "source": [
    "from fastapi import Form, File, UploadFile, Request, FastAPI\n",
    "from typing import List\n",
    "from fastapi.responses import HTMLResponse\n",
    "from fastapi.templating import Jinja2Templates\n",
    "\n",
    "app = FastAPI()\n",
    "templates = Jinja2Templates(directory=\"templates\")\n",
    "\n",
    "\n",
    "@app.post(\"/submit\")\n",
    "def submit(\n",
    "    name: str = Form(...),\n",
    "    point: float = Form(...),\n",
    "    is_accepted: bool = Form(...),\n",
    "    files: List[UploadFile] = File(...),\n",
    "):\n",
    "    return {\n",
    "        \"JSON Payload \": {\"name\": name, \"point\": point, \"is_accepted\": is_accepted},\n",
    "        \"Filenames\": [file.filename for file in files],\n",
    "    }\n",
    "\n",
    "\n",
    "@app.get(\"/\", response_class=HTMLResponse)\n",
    "def main(request: Request):\n",
    "    return templates.TemplateResponse(\"index.html\", {\"request\": request})"
   ]
  },
  {
   "cell_type": "code",
   "execution_count": null,
   "metadata": {},
   "outputs": [],
   "source": []
  }
 ],
 "metadata": {
  "kernelspec": {
   "display_name": ".venv",
   "language": "python",
   "name": "python3"
  },
  "language_info": {
   "codemirror_mode": {
    "name": "ipython",
    "version": 3
   },
   "file_extension": ".py",
   "mimetype": "text/x-python",
   "name": "python",
   "nbconvert_exporter": "python",
   "pygments_lexer": "ipython3",
   "version": "3.11.4"
  },
  "orig_nbformat": 4
 },
 "nbformat": 4,
 "nbformat_minor": 2
}
