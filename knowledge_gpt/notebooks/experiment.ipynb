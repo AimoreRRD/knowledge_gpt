{
 "cells": [
  {
   "cell_type": "code",
   "execution_count": 3,
   "metadata": {},
   "outputs": [],
   "source": [
    "from knowledge_gpt.utils.parsers import parse_file\n",
    "import re\n",
    "from io import BytesIO\n",
    "from typing import List\n",
    "\n",
    "import docx2txt\n",
    "import streamlit as st\n",
    "from pypdf import PdfReader\n",
    "\n",
    "\n",
    "# def parse_docx(file: BytesIO) -> str:\n",
    "#     text = docx2txt.process(file)\n",
    "#     # Remove multiple newlines\n",
    "#     text = re.sub(r\"\\n\\s*\\n\", \"\\n\\n\", text)\n",
    "#     return text\n",
    "\n",
    "\n",
    "# def parse_pdf(file: BytesIO) -> List[str]:\n",
    "#     pdf = PdfReader(file)\n",
    "#     output = []\n",
    "#     for page in pdf.pages:\n",
    "#         text = page.extract_text()\n",
    "#         # Merge hyphenated words\n",
    "#         text = re.sub(r\"(\\w+)-\\n(\\w+)\", r\"\\1\\2\", text)\n",
    "#         # Fix newlines in the middle of sentences\n",
    "#         text = re.sub(r\"(?<!\\n\\s)\\n(?!\\s\\n)\", \" \", text.strip())\n",
    "#         # Remove multiple newlines\n",
    "#         text = re.sub(r\"\\n\\s*\\n\", \"\\n\\n\", text)\n",
    "\n",
    "#         output.append(text)\n",
    "\n",
    "#     return output\n",
    "\n",
    "\n",
    "# def parse_txt(file: BytesIO) -> str:\n",
    "#     text = file.read().decode(\"utf-8\")\n",
    "#     # Remove multiple newlines\n",
    "#     text = re.sub(r\"\\n\\s*\\n\", \"\\n\\n\", text)\n",
    "#     return text\n",
    "\n",
    "# def parse_file(file):\n",
    "#     \"\"\"Parses a file and returns a list of Documents.\"\"\"\n",
    "#     if file.name.endswith(\".pdf\"):\n",
    "#         return parse_pdf(file)\n",
    "#     elif file.name.endswith(\".docx\"):\n",
    "#         return parse_docx(file)\n",
    "#     elif file.name.endswith(\".txt\"):\n",
    "#         return parse_txt(file)\n",
    "#     else:\n",
    "#         raise ValueError(\"File type not supported!\")\n",
    "\n",
    "\n",
    "uploaded_file = \"Isaac_Newton.pdf\"\n",
    "# # document_name = uploaded_file.name.split(\".\")[0]\n",
    "# # doc_chunks = text_to_docs(text, document_name=document_name)"
   ]
  },
  {
   "cell_type": "code",
   "execution_count": 4,
   "metadata": {},
   "outputs": [
    {
     "ename": "NameError",
     "evalue": "name 'text' is not defined",
     "output_type": "error",
     "traceback": [
      "\u001b[0;31m---------------------------------------------------------------------------\u001b[0m",
      "\u001b[0;31mNameError\u001b[0m                                 Traceback (most recent call last)",
      "Cell \u001b[0;32mIn[4], line 1\u001b[0m\n\u001b[0;32m----> 1\u001b[0m \u001b[39mlen\u001b[39m(text)\n\u001b[1;32m      2\u001b[0m \u001b[39mprint\u001b[39m(text[\u001b[39m0\u001b[39m])\n",
      "\u001b[0;31mNameError\u001b[0m: name 'text' is not defined"
     ]
    }
   ],
   "source": [
    "with open(uploaded_file, 'rb') as f:\n",
    "    text = parse_file(f)\n",
    "    len(text)\n",
    "    print(text[0])"
   ]
  },
  {
   "cell_type": "code",
   "execution_count": 8,
   "metadata": {},
   "outputs": [
    {
     "data": {
      "text/plain": [
       "2687"
      ]
     },
     "execution_count": 8,
     "metadata": {},
     "output_type": "execute_result"
    }
   ],
   "source": [
    "file = \"Isaac_Newton.pdf\"\n",
    "\n",
    "pdf = PdfReader(file)\n",
    "output = []\n",
    "for page in pdf.pages:\n",
    "    text = page.extract_text()\n",
    "    len(text)"
   ]
  }
 ],
 "metadata": {
  "kernelspec": {
   "display_name": ".venv",
   "language": "python",
   "name": "python3"
  },
  "language_info": {
   "codemirror_mode": {
    "name": "ipython",
    "version": 3
   },
   "file_extension": ".py",
   "mimetype": "text/x-python",
   "name": "python",
   "nbconvert_exporter": "python",
   "pygments_lexer": "ipython3",
   "version": "3.11.4"
  },
  "orig_nbformat": 4
 },
 "nbformat": 4,
 "nbformat_minor": 2
}
